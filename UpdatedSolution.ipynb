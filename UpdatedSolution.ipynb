{
 "cells": [
  {
   "cell_type": "code",
   "execution_count": 1,
   "metadata": {
    "collapsed": true
   },
   "outputs": [],
   "source": [
    "import numpy as np\n",
    "import random\n",
    "\n",
    "%matplotlib inline\n",
    "from __future__ import print_function\n",
    "from ipywidgets import interact, interactive, fixed\n",
    "import ipywidgets as widgets\n",
    "import matplotlib.pylab as plt\n",
    "from IPython.display import clear_output, display, HTML\n",
    "import scipy as sc\n",
    "import numpy as np\n",
    "import pandas as pd\n",
    "import matplotlib as mpl\n",
    "import matplotlib.pylab as plt"
   ]
  },
  {
   "cell_type": "markdown",
   "metadata": {},
   "source": [
    "## Error equations is\n",
    "\n",
    "\\begin{eqnarray}\n",
    "\\left(\n",
    "\\begin{array}{c}\n",
    "\\epsilon_1 \\\\ \\vdots \\\\ \\vdots \\\\ \\epsilon_n \n",
    "\\end{array}\n",
    "\\right)\n",
    "=\n",
    "\\left(\n",
    "\\begin{array}{cc}\n",
    "x_2 & -x_1 \\\\ x_3 & -x_2 \\\\ \\vdots & \\vdots \\\\ x_n & x_{N-1}  \n",
    "\\end{array}\n",
    "\\right) \n",
    "\\left(\n",
    "\\begin{array}{c}\n",
    " 1 \\\\ a  \n",
    "\\end{array}\n",
    "\\right)\n",
    "\\end{eqnarray}\n",
    "\n",
    "## Minimizing errors\n",
    "\\begin{equation}\n",
    "\\frac{\\partial \\epsilon}{\\partial a} = -2 \\sum\\limits_{i=2}^n x_i x_{i-1} + 2a \\sum\\limits_{i=1}^{n-1}x_i^2\n",
    "\\end{equation}\n",
    "\n",
    "### a value is:\n",
    "\n",
    "\\begin{equation}\n",
    "a = \\frac{\\sum\\limits_{i=2}^n x_i x_{i-1}}{\\sum\\limits_{i=1}^{n-1} x_i^2}\n",
    "\\end{equation}\n",
    "\n",
    "### Algorithm:\n",
    "\n",
    "* Iterate over a and other unknowns for the problem until partial derivative is close to zero, figure out a value that sustains lowest possible error"
   ]
  },
  {
   "cell_type": "code",
   "execution_count": 15,
   "metadata": {
    "collapsed": false
   },
   "outputs": [
    {
     "name": "stdout",
     "output_type": "stream",
     "text": [
      "2.0325699618103217\n"
     ]
    }
   ],
   "source": [
    "#initializing with randoms\n",
    "p = random.random()\n",
    "q = random.random()\n",
    "r = random.random()\n",
    "a = random.random()\n",
    "\n",
    "# Gradient solution a =  2.0327516806367942 , x_2 =  1.9804386720926568 , x_4 =  7.407777064202904 , x_6 =  30.062480740871607\n",
    "#p = 1.9804386720926568\n",
    "#q = 7.407777064202904\n",
    "#r = 30.062480740871607\n",
    "#a = 2.0327516806367942\n",
    "\n",
    "y = [p,4,q,14.7,r,61.2] #given\n",
    "\n",
    "def partialDerivative():\n",
    "    return (-2*((y[1]*y[0])+(y[2]*y[1])+(y[3]*y[2])+(y[4]*y[3])+(y[5]*y[4])))+(2*a*(y[0]**2+y[1]**2+y[2]**2+y[3]**2+y[4]**2))\n",
    "\n",
    "def calculateA():\n",
    "    return ((y[1]*y[0])+(y[2]*y[1])+(y[3]*y[2])+(y[4]*y[3])+(y[5]*y[4]))/(y[0]**2+y[1]**2+y[2]**2+y[3]**2+y[4]**2)\n",
    "\n",
    "print(calculateA())"
   ]
  },
  {
   "cell_type": "code",
   "execution_count": null,
   "metadata": {
    "collapsed": true
   },
   "outputs": [],
   "source": []
  }
 ],
 "metadata": {
  "kernelspec": {
   "display_name": "Python 3",
   "language": "python",
   "name": "python3"
  },
  "language_info": {
   "codemirror_mode": {
    "name": "ipython",
    "version": 3
   },
   "file_extension": ".py",
   "mimetype": "text/x-python",
   "name": "python",
   "nbconvert_exporter": "python",
   "pygments_lexer": "ipython3",
   "version": "3.6.0"
  }
 },
 "nbformat": 4,
 "nbformat_minor": 2
}
